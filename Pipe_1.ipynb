{
  "nbformat": 4,
  "nbformat_minor": 0,
  "metadata": {
    "colab": {
      "provenance": []
    },
    "kernelspec": {
      "name": "python3",
      "display_name": "Python 3"
    },
    "language_info": {
      "name": "python"
    }
  },
  "cells": [
    {
      "cell_type": "code",
      "execution_count": null,
      "metadata": {
        "id": "iocKPaSiShQi"
      },
      "outputs": [],
      "source": [
        "import os\n",
        "import h5py\n",
        "import urllib.request\n",
        "import json\n",
        "import numpy as np\n",
        "import pandas as pd\n",
        "import matplotlib.pyplot as plt\n",
        "import seaborn as sns\n",
        "import pickle as pk\n",
        "from IPython.display import Image, display, clear_output\n",
        "from collections import Counter, defaultdict\n",
        "from sklearn.metrics import classification_report, confusion_matrix"
      ]
    },
    {
      "cell_type": "code",
      "source": [
        "from keras import optimizers\n",
        "from keras.applications.vgg16 import VGG16\n",
        "from keras.applications.vgg19 import VGG19\n",
        "from keras.applications.resnet50 import ResNet50\n",
        "from keras.applications.inception_v3 import InceptionV3\n",
        "from keras.applications.xception import Xception\n",
        "from keras.applications.imagenet_utils import preprocess_input, decode_predictions\n",
        "from keras.utils.data_utils import get_file\n",
        "from keras.utils.np_utils import to_categorical\n",
        "from keras.preprocessing.image import ImageDataGenerator, array_to_img, img_to_array, load_img\n",
        "from keras.models import Sequential, load_model\n",
        "from keras.layers import Convolution2D, MaxPooling2D, ZeroPadding2D, Activation, Dropout, Flatten, Dense\n",
        "from keras.callbacks import ModelCheckpoint, History"
      ],
      "metadata": {
        "id": "xroZMnLSvBu5"
      },
      "execution_count": null,
      "outputs": []
    },
    {
      "cell_type": "code",
      "source": [
        "CLASS_INDEX = None\n",
        "CLASS_INDEX_PATH = 'https://s3.amazonaws.com/deep-learning-models/image-models/imagenet_class_index.json'"
      ],
      "metadata": {
        "id": "k6eybxaSvhUg"
      },
      "execution_count": null,
      "outputs": []
    },
    {
      "cell_type": "code",
      "source": [
        "vgg16 = VGG16(weights='imagenet')\n",
        "vgg19 = VGG19(weights='imagenet')\n",
        "resnet = ResNet50(weights='imagenet')\n",
        "inception = InceptionV3(weights='imagenet')\n",
        "xception = Xception(weights='imagenet')"
      ],
      "metadata": {
        "id": "1ZALzBg3vhfZ"
      },
      "execution_count": null,
      "outputs": []
    },
    {
      "cell_type": "code",
      "source": [
        "def prepare_image_224(img_path):\n",
        "    img = load_img(img_path, target_size=(224,224))\n",
        "    x = img_to_array(img)\n",
        "    x = np.expand_dims(x, axis=0)\n",
        "    x = preprocess_input(x)\n",
        "    return x"
      ],
      "metadata": {
        "id": "1wkQTbmBvho9"
      },
      "execution_count": null,
      "outputs": []
    },
    {
      "cell_type": "code",
      "source": [
        "def prepare_image_299(img_path):\n",
        "    img = load_img(img_path, target_size=(299,299))\n",
        "    x = img_to_array(img)\n",
        "    x = np.expand_dims(x, axis=0)\n",
        "    x = preprocess_input(x)\n",
        "    return x"
      ],
      "metadata": {
        "id": "Rar3TZjwvhr7"
      },
      "execution_count": null,
      "outputs": []
    },
    {
      "cell_type": "code",
      "source": [
        "def get_predictions(preds, top=5):\n",
        "    global CLASS_INDEX\n",
        "    if len(preds.shape) != 2 or preds.shape[1] != 1000:\n",
        "        raise ValueError('`decode_predictions` expects a batch of predictions (i.e. a 2D array of shape (samples, 1000)). Found array with shape: ' + str(preds.shape))\n",
        "    if CLASS_INDEX is None:\n",
        "        fpath = get_file('imagenet_class_index.json',CLASS_INDEX_PATH,cache_subdir='models')\n",
        "        CLASS_INDEX = json.load(open(fpath))\n",
        "    results = []\n",
        "    for pred in preds:\n",
        "        top_indices = pred.argsort()[-top:][::-1]\n",
        "        result = [tuple(CLASS_INDEX[str(i)]) + (pred[i],) for i in top_indices]\n",
        "        result.sort(key=lambda x: x[2], reverse=True)\n",
        "        results.append(result)\n",
        "    return results"
      ],
      "metadata": {
        "id": "2By-hMrtvsxh"
      },
      "execution_count": null,
      "outputs": []
    },
    {
      "cell_type": "code",
      "source": [
        "y = prepare_image_224('testimage.jpg')\n",
        "preds = vgg16.predict(y)\n",
        "print(get_predictions(preds, top=5))"
      ],
      "metadata": {
        "id": "wjqLU-q2vwN6"
      },
      "execution_count": null,
      "outputs": []
    },
    {
      "cell_type": "code",
      "source": [
        "z = prepare_image_224('testimage.jpg')\n",
        "preds = vgg19.predict(z)\n",
        "print(get_predictions(preds, top=5))"
      ],
      "metadata": {
        "id": "uIoeV_2kwREU"
      },
      "execution_count": null,
      "outputs": []
    },
    {
      "cell_type": "code",
      "source": [
        "a = prepare_image_224('testimage.jpg')\n",
        "preds = resnet.predict(a)\n",
        "print(get_predictions(preds))\n"
      ],
      "metadata": {
        "id": "irL8u-lLwRG7"
      },
      "execution_count": null,
      "outputs": []
    },
    {
      "cell_type": "code",
      "source": [
        "b = prepare_image_299('testimage.jpg')\n",
        "preds = inception.predict(b)\n",
        "print(get_predictions(preds, top=5)"
      ],
      "metadata": {
        "id": "JDZIsU6WwRJE"
      },
      "execution_count": null,
      "outputs": []
    },
    {
      "cell_type": "code",
      "source": [
        "c = prepare_image_299('testimage.jpg')\n",
        "preds = xception.predict(c)\n",
        "print(get_predictions(preds, top=5))"
      ],
      "metadata": {
        "id": "nUZ6KPq5wW2C"
      },
      "execution_count": null,
      "outputs": []
    },
    {
      "cell_type": "code",
      "source": [
        "def get_car_categories():\n",
        "    d = defaultdict(float)\n",
        "    img_list = os.listdir('data1')\n",
        "    for i, img_path in enumerate(img_list):\n",
        "        img = prepare_image_224('data1/'+img_path)\n",
        "        out = vgg16.predict(img)\n",
        "        preds = get_predictions(out,top=5)\n",
        "        for pred in preds[0]:\n",
        "            d[pred[0:2]]+=pred[2]\n",
        "        if(i%50==0):\n",
        "            print(i,'/',len(img_list),'complete')\n",
        "    return Counter(d)"
      ],
      "metadata": {
        "id": "ucxKDeHHwW44"
      },
      "execution_count": null,
      "outputs": []
    },
    {
      "cell_type": "code",
      "source": [
        "categ_count = get_car_categories()"
      ],
      "metadata": {
        "id": "u0JG1Tymwbm6"
      },
      "execution_count": null,
      "outputs": []
    },
    {
      "cell_type": "code",
      "source": [
        "with open('vgg16_cat_list.pk', 'wb') as f:\n",
        "    pk.dump(categ_count, f, -1)\n",
        "with open('vgg16_cat_list.pk', 'rb') as f:\n",
        "    categ_count = pk.load(f)\n",
        "categ_list = [k for k, v in categ_count.most_common()[:50]]"
      ],
      "metadata": {
        "id": "YXvCPikxwbpu"
      },
      "execution_count": null,
      "outputs": []
    },
    {
      "cell_type": "code",
      "source": [
        "def get_car_categories(categ_list):\n",
        "    img_list = os.listdir('data1')\n",
        "    n = 0\n",
        "    bad_list = []\n",
        "    for i, img_path in enumerate(img_list):\n",
        "        img = prepare_image_224('data1/'+img_path)\n",
        "        out = vgg16.predict(img)\n",
        "        preds = get_predictions(out, top=5)\n",
        "        for pred in preds[0]:\n",
        "            if pred[0:2] in categ_list:\n",
        "                n+=1\n",
        "                break\n",
        "            else:\n",
        "                pass\n",
        "            bad_list.append(img_path)\n",
        "        if i%100 == 0:\n",
        "            print(i,'/',len(img_list), 'complete')\n",
        "    bad_list = [k for k, v in Counter(bad_list).items() if v == 5]\n",
        "    return n, bad_list"
      ],
      "metadata": {
        "id": "oxeuXDjowiVS"
      },
      "execution_count": null,
      "outputs": []
    },
    {
      "cell_type": "code",
      "source": [
        "num, bad_list = get_car_categories(categ_list)"
      ],
      "metadata": {
        "id": "PudjuTMiwiXk"
      },
      "execution_count": null,
      "outputs": []
    },
    {
      "cell_type": "code",
      "source": [
        "def pipe1(img_path, categ_list):\n",
        "    urllib.request.urlretrieve(img_path, 'image.jpg')\n",
        "    img = prepare_image_224('image.jpg')\n",
        "    out = vgg16.predict(img)\n",
        "    preds = get_predictions(out, top=5)\n",
        "    print(\"Ensuring entered picture is a car...\")\n",
        "    for pred in preds[0]:\n",
        "        if pred[0:2] in categ_list:\n",
        "            print(pred[0:2])\n",
        "            return \"Successful. Proceeding to damage assessment...\"\n",
        "    return \"The entered image is a not a car. Please try again. Consider a different angle or lighting.\""
      ],
      "metadata": {
        "id": "HNZGGSMFwk8K"
      },
      "execution_count": null,
      "outputs": []
    },
    {
      "cell_type": "code",
      "source": [
        "pipe1('https://www.autoauctionmall.com/learning-center/contents/uploads/2015/10/damaged-car.jpg', categ_list)"
      ],
      "metadata": {
        "id": "_Ls1jFcUwlAq"
      },
      "execution_count": null,
      "outputs": []
    },
    {
      "cell_type": "code",
      "source": [
        "pipe1('https://cdn.nba.net/nba-drupal-prod/2017-05/lonzo-ball-sideline-iso.jpg',categ_list)"
      ],
      "metadata": {
        "id": "QeUpwfCZwtLk"
      },
      "execution_count": null,
      "outputs": []
    },
    {
      "cell_type": "code",
      "source": [
        "pipe1('https://tse4.mm.bing.net/th?id=OIP.FaZela57De0uzfVxVY3JJQHaEo&pid=Api&P=0&w=289&h=181', categ_list)"
      ],
      "metadata": {
        "id": "9GTgKqXLwwtq"
      },
      "execution_count": null,
      "outputs": []
    }
  ]
}